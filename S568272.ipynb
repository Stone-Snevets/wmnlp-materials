{
 "cells": [
  {
   "cell_type": "markdown",
   "id": "246f5554-3b44-4d18-8195-48d7a15f5255",
   "metadata": {},
   "source": [
    "# Web Mining and Applied NLP (44-620)\n",
    "\n",
    "## Drawing with Stars\n",
    "\n",
    "### Student Name: Solomon Stevens\n",
    "\n",
    "Create following pattern using looping:\n",
    "\n",
    "```\n",
    "*      *\n",
    "**    **\n",
    "***  ***\n",
    "********\n",
    "```"
   ]
  },
  {
   "cell_type": "code",
   "execution_count": 28,
   "id": "53b2cc35-0b91-4c9d-b133-6fe3fc431e9f",
   "metadata": {},
   "outputs": [
    {
     "name": "stdout",
     "output_type": "stream",
     "text": [
      "*      *\n",
      "**    **\n",
      "***  ***\n",
      "********\n"
     ]
    }
   ],
   "source": [
    "# For each row\n",
    "for row in range(4):\n",
    "    # The first 'row' elements are '*'\n",
    "    for first in range(row+1):\n",
    "        print('*', end='')\n",
    "\n",
    "    # Calculate the number of spaces needed\n",
    "    num_spaces = 8 - (2*(row+1))\n",
    "    # Fill in spaces\n",
    "    for space in range(num_spaces):\n",
    "        print(' ', end='')\n",
    "\n",
    "    # The last 'row' elements are '*'\n",
    "    for last in range(row+1):\n",
    "        print('*', end='')\n",
    "\n",
    "    # Go to next row\n",
    "    print()\n",
    "        "
   ]
  }
 ],
 "metadata": {
  "kernelspec": {
   "display_name": "Python 3 (ipykernel)",
   "language": "python",
   "name": "python3"
  },
  "language_info": {
   "codemirror_mode": {
    "name": "ipython",
    "version": 3
   },
   "file_extension": ".py",
   "mimetype": "text/x-python",
   "name": "python",
   "nbconvert_exporter": "python",
   "pygments_lexer": "ipython3",
   "version": "3.11.8"
  }
 },
 "nbformat": 4,
 "nbformat_minor": 5
}
